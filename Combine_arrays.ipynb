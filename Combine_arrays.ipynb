{
  "nbformat": 4,
  "nbformat_minor": 0,
  "metadata": {
    "colab": {
      "name": "Combine arrays.ipynb",
      "version": "0.3.2",
      "provenance": [],
      "include_colab_link": true
    },
    "kernelspec": {
      "name": "python3",
      "display_name": "Python 3"
    }
  },
  "cells": [
    {
      "cell_type": "markdown",
      "metadata": {
        "id": "view-in-github",
        "colab_type": "text"
      },
      "source": [
        "<a href=\"https://colab.research.google.com/github/Shayros/Developing-hypotheses/blob/master/Combine_arrays.ipynb\" target=\"_parent\"><img src=\"https://colab.research.google.com/assets/colab-badge.svg\" alt=\"Open In Colab\"/></a>"
      ]
    },
    {
      "metadata": {
        "id": "fDmq60e5SBt_",
        "colab_type": "code",
        "colab": {}
      },
      "cell_type": "code",
      "source": [
        "import numpy as np\n",
        "from scipy import stats\n",
        "E2E=np.array([108.75, 42.68, 25.71, 174.89, 100.88, 35.96, 71.95, 27.93, 31.39, 20.33, 15.15])\n",
        "E1E=np.array([65.16, 38.05, 50.79, 12.2, 70.31])\n",
        "E2M=np.array([34.54, 36.41, 209.91, 69.88, 5.22, 70.51, 125.42, 26.84, 71.78,72.47, 41.47, 64.31, 6.74, 12.18])\n",
        "E1M=np.array([123.85, 66.88, 14.28, 67.61, 17.77, 118.53, 92.6, 58.04, 9.05, 7.54, 87.78, 113.42, 23.64, 68.55, 83.58, 33.12, 49.72, 48.07])\n",
        "\n",
        "\n",
        "#Combine the arrays from the different measurements into one array\n",
        "Epi=np.concatenate([E1E] +  [E2E])\n",
        "Mes=np.concatenate([E1M] + [E2M])\n"
      ],
      "execution_count": 0,
      "outputs": []
    }
  ]
}