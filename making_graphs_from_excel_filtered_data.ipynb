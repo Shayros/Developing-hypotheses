{
  "nbformat": 4,
  "nbformat_minor": 0,
  "metadata": {
    "colab": {
      "name": "making_graphs_from_excel_filtered_data.ipynb",
      "version": "0.3.2",
      "provenance": [],
      "collapsed_sections": [],
      "include_colab_link": true
    },
    "kernelspec": {
      "name": "python3",
      "display_name": "Python 3"
    }
  },
  "cells": [
    {
      "cell_type": "markdown",
      "metadata": {
        "id": "view-in-github",
        "colab_type": "text"
      },
      "source": [
        "<a href=\"https://colab.research.google.com/github/Shayros/Developing-hypotheses/blob/master/making_graphs_from_excel_filtered_data.ipynb\" target=\"_parent\"><img src=\"https://colab.research.google.com/assets/colab-badge.svg\" alt=\"Open In Colab\"/></a>"
      ]
    },
    {
      "metadata": {
        "id": "Expg01ASVSS6",
        "colab_type": "code",
        "colab": {}
      },
      "cell_type": "code",
      "source": [
        "import numpy as np\n",
        "from scipy import stats\n",
        "E2E=np.array([108.75, 42.68, 25.71, 174.89, 100.88, 35.96, 71.95, 27.93, 31.39, 20.33, 15.15])\n",
        "E1E=np.array([65.16, 38.05, 50.79, 12.2, 70.31])\n",
        "E2M=np.array([34.54, 36.41, 209.91, 69.88, 5.22, 70.51, 125.42, 26.84, 71.78,72.47, 41.47, 64.31, 6.74, 12.18])\n",
        "E1M=np.array([123.85, 66.88, 14.28, 67.61, 17.77, 118.53, 92.6, 58.04, 9.05, 7.54, 87.78, 113.42, 23.64, 68.55, 83.58, 33.12, 49.72, 48.07])\n",
        "\n",
        "#Combine the arrays from the different measurements into one array\n",
        "Epi=np.concatenate([E1E] +  [E2E])\n",
        "Mes=np.concatenate([E1M] + [E2M])\n",
        "\n",
        "\n",
        "#Calculate the mean\n",
        "Epi_mean=np.mean(Epi)\n",
        "Mes_mean=np.mean(Mes)\n",
        "\n",
        "#Calculate Standard deviation\n",
        "Epi_std=np.std(Epi)\n",
        "Mes_std=np.std(Mes)\n",
        "\n",
        "# Error bars\n",
        "Cell_types=['Epi', 'Mes']\n",
        "x_pos=np.arange(len(Cell_types))\n",
        "meanbars=[Epi_mean, Mes_mean]\n",
        "error=[Epi_std, Mes_std]\n",
        "\n",
        "import matplotlib.pyplot as plt\n",
        "\n",
        "# Build the plot\n",
        "fig, ax = plt.subplots()\n",
        "ax.bar(x_pos, meanbars, color=['pink', 'blue'], yerr=error, align='center', alpha=0.5, ecolor='black', capsize=10)\n",
        "ax.set_ylabel('mRNA Expression')\n",
        "ax.set_xticks(x_pos)\n",
        "ax.set_xticklabels(Cell_types)\n",
        "ax.set_title('Aprc4 expression in epithelial and mesenchymal cells')\n",
        "ax.yaxis.grid(True)\n",
        "\n",
        "# Save the figure and show\n",
        "plt.tight_layout()\n",
        "plt.savefig('Aprc4_mRNAexpression_E10.5.png')\n",
        "plt.show()\n",
        "\n",
        "#Compare to the internal scipy function\n",
        "t, p = stats.ttest_ind(Mes,Epi, equal_var=False)\n",
        "print(\"t = \" + str(t))\n",
        "print(\"p = \" + str(p))"
      ],
      "execution_count": 0,
      "outputs": []
    }
  ]
}