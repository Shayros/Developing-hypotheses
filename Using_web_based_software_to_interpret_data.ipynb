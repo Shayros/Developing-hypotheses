{
  "nbformat": 4,
  "nbformat_minor": 0,
  "metadata": {
    "colab": {
      "name": "Using_web-based_software_to_interpret_data.ipynb",
      "version": "0.3.2",
      "provenance": [],
      "collapsed_sections": [],
      "include_colab_link": true
    },
    "kernelspec": {
      "name": "python3",
      "display_name": "Python 3"
    }
  },
  "cells": [
    {
      "cell_type": "markdown",
      "metadata": {
        "id": "view-in-github",
        "colab_type": "text"
      },
      "source": [
        "<a href=\"https://colab.research.google.com/github/Shayros/Developing-hypotheses/blob/master/Using_web_based_software_to_interpret_data.ipynb\" target=\"_parent\"><img src=\"https://colab.research.google.com/assets/colab-badge.svg\" alt=\"Open In Colab\"/></a>"
      ]
    },
    {
      "metadata": {
        "id": "GhVPSICFrXtv",
        "colab_type": "text"
      },
      "cell_type": "markdown",
      "source": [
        "# Using web-based software to interpret data\n",
        "---\n",
        "\n",
        "**What is IPA?**\n",
        "\n",
        "Ingenuity Pathway Analysis ([IPA](https://www.qiagenbioinformatics.com/products/ingenuity-pathway-analysis/)) is a web-based software that it is used for the interpretation of omics data. You can either interpret your own data or used the data available within the software.\n",
        "\n",
        "** Basis of designing pathways on IPA**\n",
        "\n",
        "\n",
        "**Dowloading information of IPA**\n",
        "\n"
      ]
    },
    {
      "metadata": {
        "id": "eB8O5konzH3x",
        "colab_type": "text"
      },
      "cell_type": "markdown",
      "source": [
        "\n",
        "**Analyzing information in python**\n",
        "\n",
        "*Assessing Timp2 protein-protein interaction between lung development and disease (fibrosis and lung adenocarcinoma)*"
      ]
    },
    {
      "metadata": {
        "id": "A5B0CN3ez7g0",
        "colab_type": "code",
        "colab": {}
      },
      "cell_type": "code",
      "source": [
        "import matplotlib.pyplot as plt\n",
        "from matplotlib_venn import venn2\n",
        "PPI_lung_dev=['ADAM17','ITGA3', 'ITGB1', 'MMP14', 'MMP2', 'MMP9', 'RAB3A']\n",
        "PPI_Fibrosis_and_lung_cancer=['IGF1R','ITGB1', 'MMP7', 'ITGA5']\n",
        "venn2([set(PPI_lung_dev), set(PPI_Fibrosis_and_lung_cancer)], set_labels = ('Lung development ', 'Fibrosis and lung adenocarcinoma'))\n",
        "plt.title('Timp2 protein-protein interactions during development vs disease\\n')\n",
        "plt.savefig('Timp2_protein_protein_interaction_dev_vs_disease')\n",
        "plt.print()"
      ],
      "execution_count": 0,
      "outputs": []
    },
    {
      "metadata": {
        "id": "Tb-5-7sW0UjM",
        "colab_type": "text"
      },
      "cell_type": "markdown",
      "source": [
        "![alt text](https://https://figures/Timp2%20protein_protein%20interaction%20during%20development%20vs%20disease.png)"
      ]
    }
  ]
}