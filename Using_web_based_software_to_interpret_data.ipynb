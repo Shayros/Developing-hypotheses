{
  "nbformat": 4,
  "nbformat_minor": 0,
  "metadata": {
    "colab": {
      "name": "Using_web-based_software_to_interpret_data.ipynb",
      "version": "0.3.2",
      "provenance": [],
      "collapsed_sections": [],
      "include_colab_link": true
    },
    "kernelspec": {
      "name": "python3",
      "display_name": "Python 3"
    }
  },
  "cells": [
    {
      "cell_type": "markdown",
      "metadata": {
        "id": "view-in-github",
        "colab_type": "text"
      },
      "source": [
        "<a href=\"https://colab.research.google.com/github/Shayros/Developing-hypotheses/blob/master/Using_web_based_software_to_interpret_data.ipynb\" target=\"_parent\"><img src=\"https://colab.research.google.com/assets/colab-badge.svg\" alt=\"Open In Colab\"/></a>"
      ]
    },
    {
      "metadata": {
        "id": "GhVPSICFrXtv",
        "colab_type": "text"
      },
      "cell_type": "markdown",
      "source": [
        "# Task 2: Using web-based software to interpret data\n",
        "---\n",
        "\n",
        "**What is IPA?**\n",
        "\n",
        "Ingenuity Pathway Analysis ([IPA](https://www.qiagenbioinformatics.com/products/ingenuity-pathway-analysis/)) is a web-based software that it is used for the interpretation of omics data. You can either interpret your own data or used the data available within the software.\n",
        "\n",
        "** Basis of designing pathways on IPA**\n",
        "\n",
        "To design a pathway on IPA you first need to search for the molecule or disease/function of interest and add it to a new pathway. For example,  we are using Timp2. \n",
        "\n",
        "![Creating a pathway with molecule of interest](https://github.com/Shayros/Developing-hypotheses/blob/master/figures/Creating%20a%20pathway%20with%20molecule%20of%20interest.png?raw=1)\n",
        "\n",
        "\n",
        "Once you start the pathway you can add more molecules or diseases/functions to make your analysis. The data that was selected for task1 was of embryonic lung. Therefore, I can add lung development to the pathway.\n",
        "\n",
        "![Adding information to the pathway](https://github.com/Shayros/Developing-hypotheses/blob/master/figures/Adding%20information%20to%20the%20pathway1.png?raw=1)\n",
        "\n",
        "\n",
        "Now that we have the data of lung development, let's compare how that compares to disease. For doing this, you have to open a new pathway for Timp2. If you don't do that it could be analyzing relationship from the graph that you have created, and we are just looking at direct relationships.\n",
        "\n",
        "![adding information2](https://github.com/Shayros/Developing-hypotheses/blob/master/figures/Adding%20information%20to%20the%20pathway2.png?raw=1)\n",
        "\n",
        "\n",
        "Once the molecules are added to the pathway, press build. The build option will provide a list of options, which you will select path explorer.\n",
        "\n",
        "\n",
        "![building1](https://github.com/Shayros/Developing-hypotheses/blob/master/figures/Building%20the%20pathway1.png?raw=1)\n",
        "\n",
        "\n",
        "\n",
        "In the path explorer function, you can select how you want to look at your interactions and what kind of interactions you are interested in. For this example I am interested in just showing direct interaction of Timp2 and the moleculles from either lung development or disease/function. Therefore, the path is selected from Timp2 to molecules of interest ( this helps us look at downstream pathway). \n",
        "\n",
        "![building2](https://github.com/Shayros/Developing-hypotheses/blob/master/figures/Building%20the%20pathway2.png?raw=1)\n",
        "\n",
        "\n",
        "**Dowloading information of IPA**\n",
        "\n",
        "When you hit apply to your interaction, the sofware provides the shortest pathway or other pathways that it can find. The shortest pathway that they are direct interaction without nodes. You can select them and add it to the pathway. Then you can delete what didn't interact from the list. Now you can export the data to txt file for further analysis. In this example, since we are looking for relationships we are exporting relationships instead of molecules. This will give information regarding how those molecules are interacting with Timp2.\n",
        "\n",
        "![building3](https://github.com/Shayros/Developing-hypotheses/blob/master/figures/Building%20the%20pathway3.png?raw=1)\n",
        "\n",
        "\n"
      ]
    },
    {
      "metadata": {
        "id": "eB8O5konzH3x",
        "colab_type": "text"
      },
      "cell_type": "markdown",
      "source": [
        "\n",
        "**Analyzing information in python**\n",
        "\n",
        "*Assessing Timp2 protein-protein interaction between lung development and disease (fibrosis and lung adenocarcinoma)*"
      ]
    },
    {
      "metadata": {
        "id": "A5B0CN3ez7g0",
        "colab_type": "code",
        "colab": {}
      },
      "cell_type": "code",
      "source": [
        "import matplotlib.pyplot as plt\n",
        "from matplotlib_venn import venn2\n",
        "PPI_lung_dev=['ADAM17','ITGA3', 'ITGB1', 'MMP14', 'MMP2', 'MMP9', 'RAB3A']\n",
        "PPI_Fibrosis_and_lung_cancer=['IGF1R','ITGB1', 'MMP7', 'ITGA5']\n",
        "venn2([set(PPI_lung_dev), set(PPI_Fibrosis_and_lung_cancer)], set_labels = ('Lung development ', 'Fibrosis and lung adenocarcinoma'))\n",
        "plt.title('Timp2 protein-protein interactions during development vs disease\\n')\n",
        "plt.savefig('Timp2_protein_protein_interaction_dev_vs_disease')\n",
        "plt.print()"
      ],
      "execution_count": 0,
      "outputs": []
    },
    {
      "metadata": {
        "id": "vrE-NLe4ghp0",
        "colab_type": "code",
        "outputId": "240fbd79-4423-497a-e115-6c478e2615e1",
        "colab": {
          "base_uri": "https://localhost:8080/",
          "height": 34
        }
      },
      "cell_type": "code",
      "source": [
        "# If you are also interested in knowing which molecules are in both dataframes\n",
        "import matplotlib.pyplot as plt\n",
        "PPI_lung_dev=['ADAM17','ITGA3', 'ITGB1', 'MMP14', 'MMP2', 'MMP9', 'RAB3A']\n",
        "PPI_Fibrosis_and_lung_cancer=['IGF1R','ITGB1', 'MMP7', 'ITGA5']\n",
        "set(PPI_lung_dev) & set(PPI_Fibrosis_and_lung_cancer)"
      ],
      "execution_count": 0,
      "outputs": [
        {
          "output_type": "execute_result",
          "data": {
            "text/plain": [
              "{'ITGB1'}"
            ]
          },
          "metadata": {
            "tags": []
          },
          "execution_count": 1
        }
      ]
    },
    {
      "metadata": {
        "id": "Tb-5-7sW0UjM",
        "colab_type": "text"
      },
      "cell_type": "markdown",
      "source": [
        "![Timp2 protein-protein interactions during development vs disease\\](https://github.com/Shayros/Developing-hypotheses/blob/master/figures/Timp2%20protein_protein%20interaction%20during%20development%20vs%20disease.png?raw=1)"
      ]
    },
    {
      "metadata": {
        "id": "y6eb0H0p2mEi",
        "colab_type": "text"
      },
      "cell_type": "markdown",
      "source": [
        "**Unfortunately from the dataset selected no relationship in activation or inhibition was found.**\n",
        "\n",
        "*Assessing Timp2 activation interaction between lung development and disease (fibrosis and lung adenocarcinoma)*\n"
      ]
    },
    {
      "metadata": {
        "id": "onpGD1Lr3U1T",
        "colab_type": "code",
        "colab": {}
      },
      "cell_type": "code",
      "source": [
        "import matplotlib.pyplot as plt\n",
        "from matplotlib_venn import venn2\n",
        "activation_lung_dev=['MMP2','MMP9']\n",
        "activation_Fibrosis_and_lung_cancer=[]\n",
        "venn2([set(activation_lung_dev), set(activation_Fibrosis_and_lung_cancer)], set_labels = ('Lung development ', 'Fibrosis and lung adenocarcinoma'))\n",
        "plt.title('Timp2 activation interactions during development vs disease\\n')\n",
        "plt.savefig('Timp2_activation_interaction_dev_vs_disease')\n",
        "plt.print()"
      ],
      "execution_count": 0,
      "outputs": []
    },
    {
      "metadata": {
        "id": "4NyNBpQk3V31",
        "colab_type": "text"
      },
      "cell_type": "markdown",
      "source": [
        "![activation](https://github.com/Shayros/Developing-hypotheses/blob/master/figures/Timp2%20activation%20interactions%20during%20development%20vs%20disease.png?raw=1)"
      ]
    },
    {
      "metadata": {
        "id": "tit5G-8a_gR2",
        "colab_type": "text"
      },
      "cell_type": "markdown",
      "source": [
        "*Assessing Timp2 inhibition interaction between lung development and disease (fibrosis and lung adenocarcinoma)*"
      ]
    },
    {
      "metadata": {
        "id": "OYFyse5d_yW2",
        "colab_type": "code",
        "colab": {}
      },
      "cell_type": "code",
      "source": [
        "import matplotlib.pyplot as plt\n",
        "from matplotlib_venn import venn2\n",
        "inhibition_lung_dev=['ADAM17','MMP14', 'MMP2', 'MMP9','ADAM17']\n",
        "inhibition_Fibrosis_and_lung_cancer=[]\n",
        "venn2([set(inhibition_lung_dev), set(inhibition_Fibrosis_and_lung_cancer)], set_labels = ('Lung development ', 'Fibrosis and lung adenocarcinoma'))\n",
        "plt.title('Timp2 inhibtion interactions during development vs disease')\n",
        "plt.savefig('Timp2_inhibition_interaction_dev_vs_disease')\n",
        "plt.print()"
      ],
      "execution_count": 0,
      "outputs": []
    },
    {
      "metadata": {
        "id": "gP27oAQ0ApO7",
        "colab_type": "text"
      },
      "cell_type": "markdown",
      "source": [
        "![inhibition](https://github.com/Shayros/Developing-hypotheses/blob/master/figures/Timp2%20inhibition%20interactions%20during%20development%20vs%20disease.png?raw=1)"
      ]
    },
    {
      "metadata": {
        "id": "7DMVgRq0AIU-",
        "colab_type": "text"
      },
      "cell_type": "markdown",
      "source": [
        "**You can also compare which ones are acting as both activators and inhibitor**\n",
        "\n",
        "*Assessing whether Timp2 interacting molecules relationship (activation vs inhibition) *"
      ]
    },
    {
      "metadata": {
        "id": "1paLza-gAkfA",
        "colab_type": "code",
        "colab": {}
      },
      "cell_type": "code",
      "source": [
        "import matplotlib.pyplot as plt\n",
        "from matplotlib_venn import venn2\n",
        "inhibition_lung_dev=['ADAM17','MMP14', 'MMP2', 'MMP9']\n",
        "activation_lung_dev=['MMP2','MMP9']\n",
        "venn2([set(inhibition_lung_dev), set(activation_lung_dev)], set_labels = ('Inhibition ', 'Activation'))\n",
        "plt.title('Timp2 inhibtion and activation interactions during development\\n')\n",
        "plt.savefig('Timp2_inhibition_activation_interaction_lungdev')\n",
        "plt.print()"
      ],
      "execution_count": 0,
      "outputs": []
    },
    {
      "metadata": {
        "id": "eQ8RIRCKE5qa",
        "colab_type": "text"
      },
      "cell_type": "markdown",
      "source": [
        "![activation vs inhibitor](https://github.com/Shayros/Developing-hypotheses/blob/master/figures/Timp2%20inhibition%20and%20activation%20interaction%20during%20development.png?raw=1)"
      ]
    },
    {
      "metadata": {
        "id": "vy_w5Lk7FpJR",
        "colab_type": "text"
      },
      "cell_type": "markdown",
      "source": [
        "#Reference\n",
        "\n",
        "**Venn diagram**-https://www.badgrammargoodsyntax.com/compbio/2017/10/29/compbio-012-making-venn-diagrams-the-right-way-using-python"
      ]
    }
  ]
}