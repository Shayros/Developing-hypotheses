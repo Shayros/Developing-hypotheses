{
  "nbformat": 4,
  "nbformat_minor": 0,
  "metadata": {
    "colab": {
      "name": "Assessing possible implications of your hypothesis.ipynb",
      "version": "0.3.2",
      "provenance": [],
      "collapsed_sections": [],
      "include_colab_link": true
    },
    "kernelspec": {
      "name": "python3",
      "display_name": "Python 3"
    }
  },
  "cells": [
    {
      "cell_type": "markdown",
      "metadata": {
        "id": "view-in-github",
        "colab_type": "text"
      },
      "source": [
        "<a href=\"https://colab.research.google.com/github/Shayros/Developing-hypotheses/blob/master/Assessing_possible_implications_of_your_hypothesis.ipynb\" target=\"_parent\"><img src=\"https://colab.research.google.com/assets/colab-badge.svg\" alt=\"Open In Colab\"/></a>"
      ]
    },
    {
      "metadata": {
        "id": "oer8KoeMTDPs",
        "colab_type": "text"
      },
      "cell_type": "markdown",
      "source": [
        "# Assessing possible implications of your hypothesis\n",
        "___ \n",
        "\n",
        "**Looking at correlations with disease dataset**\n",
        "\n",
        "*OncoLnc*\n",
        "\n",
        "We will be using a cancer dataset. For this example we will be using [OncoLnc](https://www.oncolnc.org), it is a site that allows you to explore survival correlations and download clinical dara from TCGA. \n",
        "\n",
        "![OncoLnc](figures/OncoLnc.png)\n",
        "\n",
        "First select your mRNA, microRNA or LncRNA of interest. For the pupose of this example we will continue with Timp2. Once you select Timp2 it would give you a list of cancer types that have data available for Timp2. In task 1 we look at Timp2 during lung development and in task 2 we assess relationship with lung adenocarcinoma. Therefore, we are going to be selecting lung adenocarcinoma (LUAD).\n",
        "\n",
        "![LUAD](figures/Data%20of%20interest.png)\n",
        "\n",
        "Once you select the type of cancer, the page will ask you how do you want to divide the data. For this example I selected top 25% and low 25%. \n",
        "\n",
        "![Percentage](figures/Timp2_25_percentile.png)\n",
        "\n",
        "At the bottom of the resulting graph you will have the ability to download the data."
      ]
    },
    {
      "metadata": {
        "id": "IIMeasSuYT4e",
        "colab_type": "text"
      },
      "cell_type": "markdown",
      "source": [
        "**Cleaning data**\n",
        "\n",
        "The data will be downloaded as a csv file, similar to the picture on the bottom (*note: that I change the Dead values to 0 and the alive values to 1).\n",
        "\n",
        "![TCGA csv](figures/OncoLnc%20TCGA.png)\n"
      ]
    },
    {
      "metadata": {
        "id": "LR0r_OoDZVCE",
        "colab_type": "code",
        "colab": {}
      },
      "cell_type": "code",
      "source": [
        "# To upload the data to python\n",
        "import pandas as pd\n",
        "import os\n",
        "filename= os.path.abspath(os.path.join('Desktop', 'LUAD_7077_25_25_1.csv'))\n",
        "fin= open(filename)\n",
        "readCSV= pd.read_csv(fin)\n",
        "readCSV.head()\n",
        "\n",
        "# Getting read of columns\n",
        "readCSV.drop([\"Patient\", \"Expression\"], axis=1, inplace=True)\n",
        "readCSV.head()\n",
        "\n",
        "print(\"Number of Observations:\", readCSV.shape[0])"
      ],
      "execution_count": 0,
      "outputs": []
    },
    {
      "metadata": {
        "id": "oV_I53PWZfuL",
        "colab_type": "text"
      },
      "cell_type": "markdown",
      "source": [
        "**Building graphs**\n",
        "\n",
        "Now that you clean the data. Let's check whether Timp2 have an implication in cancer survival by performing a survival plot."
      ]
    },
    {
      "metadata": {
        "id": "I86VEeBDZ55g",
        "colab_type": "code",
        "colab": {}
      },
      "cell_type": "code",
      "source": [
        "from lifelines import KaplanMeierFitter\n",
        "kmf=KaplanMeierFitter()\n",
        "\n",
        "C= readCSV['Status']\n",
        "T= readCSV['Days']\n",
        "kmf.fit(T,C)\n",
        "groups=readCSV['Group']\n",
        "ix = (groups == 'Low', \"High\")\n",
        "\n",
        "for r in readCSV ['Group'].unique():\n",
        "    ix=readCSV ['Group'] ==r\n",
        "\n",
        "kmf.fit(T[~ix], C[~ix], label='Low Timp2 Expression')\n",
        "ax = kmf.plot()\n",
        "\n",
        "kmf.fit(T[ix], C[ix], label='High Timp2 Expression')\n",
        "kmf.plot(ax=ax)"
      ],
      "execution_count": 0,
      "outputs": []
    },
    {
      "metadata": {
        "id": "bwRXQIgwZ7nL",
        "colab_type": "text"
      },
      "cell_type": "markdown",
      "source": [
        "![Timp2_Survival_plot](figures/Timp2%20survival%20plot.png)"
      ]
    },
    {
      "metadata": {
        "id": "5Mj9abXVaYlb",
        "colab_type": "text"
      },
      "cell_type": "markdown",
      "source": [
        "# Summary\n",
        "\n",
        "**These three task have teach you:**\n",
        "\n",
        "1.   How to look up data of molecules that you are interested\n",
        "2.   How to look the relationship of those molecules with others or with disease/function\n",
        "3. How your molecule is related to cancer survival(you can look at dataset of the condition that you are interest to also do survival analysis)\n",
        "\n",
        "**With these three task you are answering:**\n",
        "\n",
        "What are you interested?\n",
        "What is the relationship of that with previous studies? or What previous studies say about your molecule?\n",
        "Why it is important to study the implication of that molecule?\n",
        "\n",
        "\n",
        "# References\n",
        "\n",
        "**Cleaning data**: https://github.com/johnrandazzo/surv_nflrb\n",
        "\n",
        "**Graphs**: https://lifelines.readthedocs.io/en/latest/Quickstart.html#kaplan-meier-and-nelson-aalen\n"
      ]
    }
  ]
}