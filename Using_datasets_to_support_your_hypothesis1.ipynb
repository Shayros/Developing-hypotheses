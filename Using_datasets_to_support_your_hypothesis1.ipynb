{
  "nbformat": 4,
  "nbformat_minor": 0,
  "metadata": {
    "colab": {
      "name": "Using datasets to support your hypothesis1.ipynb",
      "version": "0.3.2",
      "provenance": [],
      "collapsed_sections": [],
      "include_colab_link": true
    },
    "kernelspec": {
      "name": "python3",
      "display_name": "Python 3"
    }
  },
  "cells": [
    {
      "cell_type": "markdown",
      "metadata": {
        "id": "view-in-github",
        "colab_type": "text"
      },
      "source": [
        "<a href=\"https://colab.research.google.com/github/Shayros/Developing-hypotheses/blob/master/Using_datasets_to_support_your_hypothesis1.ipynb\" target=\"_parent\"><img src=\"https://colab.research.google.com/assets/colab-badge.svg\" alt=\"Open In Colab\"/></a>"
      ]
    },
    {
      "metadata": {
        "id": "5nBJgce9ST3D",
        "colab_type": "text"
      },
      "cell_type": "markdown",
      "source": [
        "# First task: Using datasets to support your hypothesis\n",
        "\n",
        "\n",
        "---\n",
        "\n",
        "The page that we are going to be using  in this project is the [NCBI Gene Expression Ombnibus](https://www.ncbi.nlm.nih.gov/geo/)\n",
        "\n",
        "\"GEO is a public functional genomics data repository supporting MIAME-compliant data submissions. Array- and sequence-based data are accepted. Tools are provided to help users query and download experiments and curated gene expression profiles\"\n",
        "\n",
        "![NCBI Geo site](https://github.com/Shayros/Developing-hypotheses/blob/master/figures/NCBI%20Geo%20site.png?raw=1)"
      ]
    },
    {
      "metadata": {
        "id": "3A6if_EraEi4",
        "colab_type": "text"
      },
      "cell_type": "markdown",
      "source": [
        " # 1. Downloading the datasets\n",
        "\n",
        "Once you arrived at the site, you are going to search for the things that you would like to study. For instance, you can write in the search breast cancer and all the data available that used breast cancer will show up.\n",
        "\n",
        "**As an example I will be using two datasets of RNA-seq expression of lung epithelial and mesenchymal cells at different embryonic stage:**\n",
        "\n",
        "*GSM3027039 (lung 10.5 embryo expression)\n",
        "\n",
        "*GSM3027047 (lung 11.5 embryo expression)\n",
        "\n",
        "The datasets include both epithelial and mesenchymal messurements at their respective embryionic stage. The process of epithelial to mesenchymal transition have been implicated in cancer progression in lung and other type of cancer. Therefore, it is nice to see the expression of the molecule of interest in these cells at embryonic stages.\n",
        "\n",
        "\n",
        "To download the data you can go to end and dowload the series matrix. GSE files are the one that contain the data to be analyzed and GPL files contain the annotation. When working with your own questions, I recommend downloading both to help you know what mRNA data you are analyzing.\n",
        "\n",
        "Here is an example that will help you download datasets and save the data when the files are added as a supplement information instead of a series matrix. First, you can start by downloading the data in http format and save it as a txt file. If this doesn't work for you please follow the steps below.\n",
        "\n",
        "-Look on this data on the search bar\n",
        "\n",
        "\n",
        "-In the bottom of the pages sometimes are instruction that will help you find the data. As you see in the instruction \"Raw data are available in SRA\"\n",
        "\n",
        "![Finding the data step one](https://github.com/Shayros/Developing-hypotheses/blob/master/figures/Finding%20the%20data%20step%20one.png?raw=1)\n",
        "\n",
        "-Now, find your dataset!\n",
        "\n",
        "![Finding the data step two](https://github.com/Shayros/Developing-hypotheses/blob/master/figures/Finding%20the%20data%20step%20two.png?raw=1)\n",
        "\n",
        "\n",
        "-Downloading the datasets\n",
        "\n",
        "![Finding the data step three](https://github.com/Shayros/Developing-hypotheses/blob/master/figures/Finding%20the%20data%20step%20three.png?raw=1)\n",
        "\n",
        "\n",
        "-Final step\n",
        "\n",
        "![Finding the data last step](https://github.com/Shayros/Developing-hypotheses/blob/master/figures/Finding%20the%20data%20last%20step.png?raw=1)\n",
        "\n",
        "\n",
        "**You have your data. Now what?**\n",
        "\n",
        "-You need to filter the data either in Excel or python to facilitates its use."
      ]
    },
    {
      "metadata": {
        "id": "Uno5FQIPuJgx",
        "colab_type": "text"
      },
      "cell_type": "markdown",
      "source": [
        "#2. Cleaning information on Excel\n",
        "\n",
        "First open the text file on Excel and get rid of the unnecessary information by highlighting the numbers and presing delete. You can also do a search for the specific mRNA of interest if the data is already annotated. In this case the data is already annotated. Theredore, I will select **Timp2** in our search. Timp2 is conserved in human and mice, which allow us to compare datasets between both organism. [Timp2](https://www.genecards.org/cgi-bin/carddisp.pl?gene=TIMP2) is a tissue inhibitor of metalloproteinases and it is important for tissue homeostasis. \n",
        "\n",
        "![Searching for your mRNA in Excel](https://github.com/Shayros/Developing-hypotheses/blob/master/figures/Searching%20for%20your%20mRNA%20in%20Excel.png?raw=1)\n",
        "\n",
        "\n",
        "In the case of this data the cells are taken from more than one embryo. However, since the samples are taken from the same research group, equipment, strain of animals, gender, and at the same embryonic stage you can either combine the epithelial samples together and the mesenchymal if your question is to observe the differences between both samples. Nevertheless, if you are more interested in see variability between epithelial and mesenchymal cells between different individuals you can divide the samples per embryo.\n",
        "\n",
        "*For the purpose of this study we are going to combine the epithelial samples together and do the same with the mesenchymal cells.*\n",
        "\n",
        "Since we will be looking for Timp2, you can delete the rest of the data leaving only Timp2 in the excel sheet. Then combine the information in a single column and transpose the data. This will allow you to go from vertical to horizontal to facilitate moving the information to python."
      ]
    },
    {
      "metadata": {
        "id": "1GG-4s_U6k2e",
        "colab_type": "text"
      },
      "cell_type": "markdown",
      "source": [
        "# 3. Analyzing data in python and producing graphs"
      ]
    },
    {
      "metadata": {
        "id": "addSh-iP7ibq",
        "colab_type": "text"
      },
      "cell_type": "markdown",
      "source": [
        "*GSM3027039 (lung 10.5 embryo expression)*"
      ]
    },
    {
      "metadata": {
        "id": "z8cr1Cq2HzVo",
        "colab_type": "code",
        "outputId": "b76817e1-3b42-4cd5-8991-3de302f2bc21",
        "colab": {
          "base_uri": "https://localhost:8080/",
          "height": 435
        }
      },
      "cell_type": "code",
      "source": [
        "import numpy as np\n",
        "from scipy import stats\n",
        "E2E=np.array ([101.84, 35.15, 0.00, 51.44, 0.00, 0.00,99.63,23.94, 0.00, 8.13, 0.00])\n",
        "E1E=np.array ([0.00, 10.87, 0.00, 41.46, 17.58])\n",
        "E2M=np.array([72.37, 0.00,0.00,\t0.00,0.00, 0.00,10.45, 0.00,91.36,14.49,120.26, 3.06, 114.54,0.00])\n",
        "E1M=np.array([35.96, 2.68,204.7, 23.24, 28.44, 0.00,57.47, 29.02, 0.00,\t2.51, 13.5, 3.91, 23.64, 6.23, 0.00,0.00,0.00,0.00,\t45.02, 0.00])\n",
        "\n",
        "#Combine the arrays from the different measurements into one array\n",
        "Epi=np.concatenate([E1E] +  [E2E])\n",
        "Mes=np.concatenate([E1M] + [E2M])\n",
        "\n",
        "\n",
        "#Calculate the mean\n",
        "Epi_mean=np.mean(Epi)\n",
        "Mes_mean=np.mean(Mes)\n",
        "\n",
        "#Calculate Standard deviation\n",
        "Epi_std=np.std(Epi)\n",
        "Mes_std=np.std(Mes)\n",
        "\n",
        "# Error bars\n",
        "Cell_types=['Epi', 'Mes']\n",
        "x_pos=np.arange(len(Cell_types))\n",
        "meanbars=[Epi_mean, Mes_mean]\n",
        "error=[Epi_std, Mes_std]\n",
        "\n",
        "import matplotlib.pyplot as plt\n",
        "\n",
        "# Build the plot\n",
        "fig, ax = plt.subplots()\n",
        "ax.bar(x_pos, meanbars, color=['pink', 'blue'], yerr=error, align='center', alpha=0.5, ecolor='black', capsize=10)\n",
        "ax.set_ylabel('mRNA Expression')\n",
        "ax.set_xticks(x_pos)\n",
        "ax.set_xticklabels(Cell_types)\n",
        "ax.set_title('Timp2 expression in lung E10.5 epithelial and mesenchymal cells')\n",
        "ax.yaxis.grid(True)\n",
        "\n",
        "# Save the figure and show\n",
        "plt.tight_layout()\n",
        "plt.savefig('Timp2_mRNAexpression_E10.5.png')\n",
        "plt.show()\n",
        "\n",
        "#Compare to the internal scipy function\n",
        "t, p = stats.ttest_ind(Mes,Epi, equal_var=False)\n",
        "print(\"t = \" + str(t))\n",
        "print(\"p = \" + str(p))"
      ],
      "execution_count": 0,
      "outputs": [
        {
          "output_type": "display_data",
          "data": {
            "image/png": "[encoded data removed]",
            "text/plain": [
              "<matplotlib.figure.Figure at 0x7fc233c8d860>"
            ]
          },
          "metadata": {
            "tags": []
          }
        },
        {
          "output_type": "stream",
          "text": [
            "t = 0.18786636459852307\n",
            "p = 0.8519663195255461\n"
          ],
          "name": "stdout"
        }
      ]
    },
    {
      "metadata": {
        "id": "tIAjNXdNIAXA",
        "colab_type": "text"
      },
      "cell_type": "markdown",
      "source": [
        "*GSM3027047 (lung 11.5 embryo expression)*\n"
      ]
    },
    {
      "metadata": {
        "id": "qegEGT6LPc-_",
        "colab_type": "code",
        "outputId": "69739c6c-6760-435c-baa3-b6a8bdd214dd",
        "colab": {
          "base_uri": "https://localhost:8080/",
          "height": 435
        }
      },
      "cell_type": "code",
      "source": [
        "import numpy as np\n",
        "from scipy import stats\n",
        "E2E=np.array ([19.83, 67.81, 0.00])\n",
        "E1E=np.array ([4.22, 190.49, 0.00, 0.00, 64.77, 0.00, 5.15, 0.00,79.94, 19.73, 0.00, 0.00, 0.00, 174.08,4.64, 0.00])\n",
        "E2M=np.array([5.15, 0.00, 0.00, 0.00,8.77,68.86,73.01,174.58, 0.00,\t23.24, 30.73, 35.16,0.00, 126.49, 73.18, 73.03])\n",
        "E1M=np.array([255.61, 15.31, 0.00, 52.57, 98.65, 24.65, 46.29, 217.5])\n",
        "\n",
        "#Combine the arrays from the different measurements into one array\n",
        "Epi=np.concatenate([E1E] +  [E2E])\n",
        "Mes=np.concatenate([E1M] + [E2M])\n",
        "\n",
        "\n",
        "#Calculate the mean\n",
        "Epi_mean=np.mean(Epi)\n",
        "Mes_mean=np.mean(Mes)\n",
        "\n",
        "#Calculate Standard deviation\n",
        "Epi_std=np.std(Epi)\n",
        "Mes_std=np.std(Mes)\n",
        "\n",
        "# Error bars\n",
        "Cell_types=['Epi', 'Mes']\n",
        "x_pos=np.arange(len(Cell_types))\n",
        "meanbars=[Epi_mean, Mes_mean]\n",
        "error=[Epi_std, Mes_std]\n",
        "\n",
        "import matplotlib.pyplot as plt\n",
        "\n",
        "# Build the plot\n",
        "fig, ax = plt.subplots()\n",
        "ax.bar(x_pos, meanbars, color=['pink', 'blue'], yerr=error, align='center', alpha=0.5, ecolor='black', capsize=10)\n",
        "ax.set_ylabel('mRNA Expression')\n",
        "ax.set_xticks(x_pos)\n",
        "ax.set_xticklabels(Cell_types)\n",
        "ax.set_title('Timp2 expression in lung E11.5 epithelial and mesenchymal cells')\n",
        "ax.yaxis.grid(True)\n",
        "\n",
        "# Save the figure and show\n",
        "plt.tight_layout()\n",
        "plt.savefig('Timp2_mRNAexpression_E11.5 lung.png')\n",
        "plt.show()\n",
        "\n",
        "# t-test with internal scipy function\n",
        "t, p = stats.ttest_ind(Mes,Epi, equal_var=False)\n",
        "print(\"t = \" + str(t))\n",
        "print(\"p = \" + str(p))"
      ],
      "execution_count": 0,
      "outputs": [
        {
          "output_type": "display_data",
          "data": {
            "image/png": "[encoded data removed]",
            "text/plain": [
              "<matplotlib.figure.Figure at 0x7fc2337999b0>"
            ]
          },
          "metadata": {
            "tags": []
          }
        },
        {
          "output_type": "stream",
          "text": [
            "t = 1.2774824478919518\n",
            "p = 0.20863320356230441\n"
          ],
          "name": "stdout"
        }
      ]
    },
    {
      "metadata": {
        "id": "SsH8KwozQyc5",
        "colab_type": "text"
      },
      "cell_type": "markdown",
      "source": [
        "# Resources\n",
        "\n",
        "The site below provide more information regarding different statistical analysis. It might help you decide which analysis is best for your data.\n",
        "\n",
        "**Statistics in Python** -https://www.scipy-lectures.org/packages/statistics/index.html\n",
        "\n",
        "# Reference\n",
        "\n",
        "**Graph and error bars** -https://pythonforundergradengineers.com/python-matplotlib-error-bars.html\n"
      ]
    }
  ]
}